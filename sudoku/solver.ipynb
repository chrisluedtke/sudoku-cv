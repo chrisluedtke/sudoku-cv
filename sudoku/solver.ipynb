{
 "cells": [
  {
   "cell_type": "code",
   "execution_count": null,
   "metadata": {},
   "outputs": [],
   "source": [
    "class Sudoku:\n",
    "    def __init__(self, board: List[List[str]]):\n",
    "        \"\"\"\n",
    "        Do not return anything, modify board in-place instead.\n",
    "        \"\"\"\n",
    "        self.board = board\n",
    "        self.val_set = set([str(i) for i in range(1, 10)])\n",
    "        self.solution = self.solve()\n",
    "    \n",
    "    def solve(self):\n",
    "        d = {}  # dict of slot locations to fill\n",
    "        i = 0\n",
    "        for r_i in range(9):\n",
    "            for c_i in range(9):\n",
    "                if self.board[r_i][c_i] == '.':\n",
    "                    d[i] = (r_i, c_i)\n",
    "                    i += 1\n",
    "        \n",
    "        i = 0\n",
    "        while True:\n",
    "            r_i = d[i][0]\n",
    "            c_i = d[i][1]\n",
    "            \n",
    "            row_vals = set(self.board[r_i])\n",
    "            col_vals = set(self.board[i][c_i] for i in range(9))\n",
    "            \n",
    "            b_r_i = r_i // 3 * 3\n",
    "            b_c_i = c_i // 3 * 3\n",
    "            box_vals = set(\n",
    "                self.board[b_r_i    ][b_c_i:b_c_i + 3] + \n",
    "                self.board[b_r_i + 1][b_c_i:b_c_i + 3] + \n",
    "                self.board[b_r_i + 2][b_c_i:b_c_i + 3]\n",
    "            )\n",
    "            \n",
    "            cur_val = self.board[r_i][c_i]\n",
    "\n",
    "            # only explore valid candidates\n",
    "            candidates = self.val_set - row_vals - col_vals - box_vals\n",
    "            candidates = sorted(c for c in candidates if c > cur_val)\n",
    "            \n",
    "            if not candidates:  # backtrack\n",
    "                self.board[r_i][c_i] = '.'\n",
    "                i -= 1\n",
    "                continue\n",
    "            else:\n",
    "                self.board[r_i][c_i] = candidates[0]\n",
    "            \n",
    "                if i == len(d) - 1:  # if last empty slot was just filled\n",
    "                    return None\n",
    "                \n",
    "                i += 1"
   ]
  }
 ],
 "metadata": {
  "kernelspec": {
   "display_name": "Python 3",
   "language": "python",
   "name": "python3"
  },
  "language_info": {
   "codemirror_mode": {
    "name": "ipython",
    "version": 3
   },
   "file_extension": ".py",
   "mimetype": "text/x-python",
   "name": "python",
   "nbconvert_exporter": "python",
   "pygments_lexer": "ipython3",
   "version": "3.6.4"
  }
 },
 "nbformat": 4,
 "nbformat_minor": 2
}
