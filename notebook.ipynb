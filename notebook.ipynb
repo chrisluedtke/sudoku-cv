{
 "cells": [
  {
   "cell_type": "markdown",
   "metadata": {},
   "source": [
    "## Identify Board Space\n",
    "\n",
    "https://scikit-image.org/docs/stable/auto_examples/features_detection/plot_corner.html#sphx-glr-auto-examples-features-detection-plot-corner-py"
   ]
  },
  {
   "cell_type": "markdown",
   "metadata": {},
   "source": [
    "### Detect Edges"
   ]
  },
  {
   "cell_type": "code",
   "execution_count": null,
   "metadata": {},
   "outputs": [],
   "source": [
    "%matplotlib inline\n",
    "\n",
    "import itertools\n",
    "from pathlib import Path\n",
    "\n",
    "import matplotlib.pyplot as plt\n",
    "import numpy as np\n",
    "import pandas as pd\n",
    "from scipy import ndimage as ndi\n",
    "from skimage import io, feature, morphology\n",
    "from skimage.color import rgb2gray\n",
    "from skimage.feature import canny\n",
    "from skimage import transform as tf\n",
    "from skimage.filters import threshold_otsu\n",
    "from skimage.transform import resize, hough_line, hough_line_peaks, warp, ProjectiveTransform\n",
    "from skimage import img_as_ubyte\n",
    "from skimage.morphology import closing, square, opening\n",
    "\n",
    "\n",
    "def load_image(image_path, resize_img=True, grayscale_img=False):\n",
    "    image = io.imread(image_path)\n",
    "\n",
    "    if resize_img:\n",
    "        # resize image such that shortest edge is 480px\n",
    "        if image.shape[1] < image.shape[0]:\n",
    "            to_shape = (image.shape[0] / (image.shape[1] / 480), 480)\n",
    "        else:\n",
    "            to_shape = (480, image.shape[1] / (image.shape[0] / 480))\n",
    "        image = resize(image, to_shape)\n",
    "\n",
    "    if grayscale_img:\n",
    "        image = rgb2gray(image)\n",
    "\n",
    "    return image\n",
    "\n",
    "\n",
    "def intersection(L1, L2):\n",
    "    D  = L1[0] * L2[1] - L1[1] * L2[0]\n",
    "    Dx = L1[2] * L2[1] - L1[1] * L2[2]\n",
    "    Dy = L1[0] * L2[2] - L1[2] * L2[0]\n",
    "    if D != 0:\n",
    "        x = Dx / D\n",
    "        y = Dy / D\n",
    "        return x,y\n",
    "    else:\n",
    "        return False\n",
    "\n",
    "\n",
    "def detect_board(image, plot=True):\n",
    "    gray = rgb2gray(image)\n",
    "\n",
    "    bw = gray > (threshold_otsu(gray))  # to black & white\n",
    "    bw = opening(bw, square(9))  # remove isolated white spots\n",
    "    filled = ndi.binary_fill_holes(bw) \n",
    "\n",
    "    # only keep shapes larger than 1/4 of the image area\n",
    "    cleaned = morphology.remove_small_objects(\n",
    "        filled, image.shape[0] * image.shape[1] / 4 \n",
    "    )\n",
    "\n",
    "    edge = canny(cleaned)  # get edges of large shape\n",
    "    \n",
    "    # get straight lines\n",
    "    h, theta, d = hough_line(edge)\n",
    "    _, angles, dists = hough_line_peaks(\n",
    "        hspace=h, angles=theta, dists=d, num_peaks=4, \n",
    "        threshold=0.5\n",
    "    )\n",
    "\n",
    "    lines = []\n",
    "    for angle, C in zip(angles, dists):\n",
    "        # Ax + By = C\n",
    "        A = np.cos(angle)\n",
    "        B = np.sin(angle)\n",
    "        lines.append((A, B, C))\n",
    "\n",
    "    corners = []\n",
    "    for L1, L2 in itertools.combinations(lines, 2):\n",
    "        pt = intersection(L1, L2)\n",
    "        if not pt:\n",
    "            continue\n",
    "        conditions = [\n",
    "             pt[0] > -50, \n",
    "             pt[1] > -50, \n",
    "             pt[0] < image.shape[1] + 50,\n",
    "             pt[1] < image.shape[0] + 50, \n",
    "        ]\n",
    "        if all(conditions):\n",
    "            corners.append(pt)\n",
    "    \n",
    "    if plot:\n",
    "        fig, ax = plt.subplots(nrows=2, ncols=2, figsize=(10, 8))\n",
    "        ax[0][0].imshow(bw, cmap=plt.cm.gray)\n",
    "        ax[0][1].imshow(cleaned, cmap=plt.cm.gray)\n",
    "        ax[1][0].imshow(edge, cmap=plt.cm.gray)\n",
    "\n",
    "        ax[1][1].imshow(image, cmap=plt.cm.gray)\n",
    "        ax[1][1].plot([t[0] for t in corners], \n",
    "                      [t[1] for t in corners], '.r')\n",
    "\n",
    "        for angle, dist in zip(angles, dists):\n",
    "            y0 = (dist - 0 * np.cos(angle)) / np.sin(angle)\n",
    "            y1 = (dist - image.shape[1] * np.cos(angle)) / np.sin(angle)\n",
    "            ax[1][1].plot((0, image.shape[1]), (y0, y1), '-r')\n",
    "\n",
    "        ax[1][1].set_xlim((0, image.shape[1]))\n",
    "        ax[1][1].set_ylim((image.shape[0], 0))\n",
    "        \n",
    "        plt.tight_layout()\n",
    "        plt.show()\n",
    "    \n",
    "    return corners\n",
    "\n",
    "\n",
    "def average(ls):\n",
    "    return sum(ls) / len(ls)\n",
    "\n",
    "\n",
    "def sort_points(corners):\n",
    "    centroid = (average([t[0] for t in corners]),\n",
    "                average([t[1] for t in corners]))\n",
    "    \n",
    "    board_srt = [\n",
    "        next(filter(lambda x: is_top_left(x, centroid), corners)),\n",
    "        next(filter(lambda x: is_btm_left(x, centroid), corners)),\n",
    "        next(filter(lambda x: is_btm_rght(x, centroid), corners)),\n",
    "        next(filter(lambda x: is_top_rght(x, centroid), corners)),\n",
    "    ]\n",
    "\n",
    "    return board_srt\n",
    "\n",
    "\n",
    "def is_top_left(pt, centroid):\n",
    "    return pt[0] < centroid[0] and pt[1] < centroid[1]\n",
    "\n",
    "\n",
    "def is_btm_left(pt, centroid):\n",
    "    return pt[0] < centroid[0] and pt[1] > centroid[1]\n",
    "\n",
    "\n",
    "def is_btm_rght(pt, centroid):\n",
    "    return pt[0] > centroid[0] and pt[1] > centroid[1]\n",
    "\n",
    "\n",
    "def is_top_rght(pt, centroid):\n",
    "    return pt[0] > centroid[0] and pt[1] < centroid[1]\n",
    "\n",
    "\n",
    "def ball_loc(image, x, y):\n",
    "    \"\"\"Given a square board image, returns ball array by position\"\"\"\n",
    "    ball_size = image.shape[0] // 9\n",
    "    \n",
    "    ball = image[\n",
    "        ball_size * y : ball_size * y + ball_size, \n",
    "        ball_size * x : ball_size * x + ball_size, \n",
    "    ]\n",
    "    \n",
    "    return ball\n",
    "\n",
    "\n",
    "def perspective_fix(brd_image, brd_pts):\n",
    "    n_px = 480\n",
    "    src = np.array([[   0,    0], [   0, n_px], \n",
    "                    [n_px, n_px], [n_px,    0]])\n",
    "    dst = np.array(sort_points(brd_pts))\n",
    "    tform3 = ProjectiveTransform()\n",
    "    tform3.estimate(src, dst)\n",
    "    brd_image = warp(brd_image, tform3, output_shape=(n_px, n_px))\n",
    "\n",
    "    crop = 40\n",
    "    brd_image = brd_image[crop:-crop, crop:-crop]\n",
    "    brd_image = resize(brd_image, (99, 99))\n",
    "\n",
    "    return brd_image\n",
    "\n",
    "def get_balls(image):\n",
    "    \"\"\"Expects square input image of board space\"\"\"\n",
    "    # convert each ball shape to 1D array\n",
    "    balls = []\n",
    "    for y in range(9):\n",
    "        for x in range(9):\n",
    "            ball = ball_loc(image, x, y)\n",
    "            balls.append(ball.flatten())\n",
    "            \n",
    "    return np.vstack(balls)"
   ]
  },
  {
   "cell_type": "code",
   "execution_count": null,
   "metadata": {},
   "outputs": [],
   "source": [
    "balls = []\n",
    "labels = np.array([])\n",
    "warped_imgs = []\n",
    "\n",
    "for config_set in Path('img').iterdir():\n",
    "    img_paths = [x for x in config_set.iterdir() if str(x).lower().endswith('jpg')]\n",
    "\n",
    "    # get labels from config.csv\n",
    "    config = pd.read_csv(config_set / 'config.csv', header=None)\n",
    "    config = config.fillna('empty')\n",
    "    config = config.values.flatten()\n",
    "    # multiply labels by number of images\n",
    "    config = np.vstack([config] * len(img_paths)).flatten()\n",
    "    labels = np.append(labels, config)\n",
    "\n",
    "    for img_path in img_paths:\n",
    "        image = load_image(str(img_path))\n",
    "        brd_pts = detect_board(image, plot=False)\n",
    "        \n",
    "        if len(brd_pts) < 4:\n",
    "            print('Error:', str(img_path), 'failed to locate corners')\n",
    "            continue\n",
    "        \n",
    "        image = perspective_fix(image, brd_pts)\n",
    "        warped_imgs.append(image)\n",
    "        balls.append(get_balls(image))"
   ]
  },
  {
   "cell_type": "code",
   "execution_count": null,
   "metadata": {},
   "outputs": [],
   "source": [
    "balls = np.vstack(balls)"
   ]
  },
  {
   "cell_type": "code",
   "execution_count": null,
   "metadata": {},
   "outputs": [],
   "source": [
    "# show random ball to check that labels match\n",
    "import random\n",
    "\n",
    "idx = random.randint(0, len(labels))\n",
    "print(labels[idx], idx)\n",
    "plt.imshow(balls[idx].reshape(11, 11, 3));"
   ]
  },
  {
   "cell_type": "code",
   "execution_count": null,
   "metadata": {},
   "outputs": [],
   "source": [
    "image = load_image(str(img_path))\n",
    "brd_pts = detect_board(image)"
   ]
  },
  {
   "cell_type": "code",
   "execution_count": null,
   "metadata": {},
   "outputs": [],
   "source": [
    "from IPython.display import clear_output\n",
    "\n",
    "for img in warped_imgs:\n",
    "    plt.imshow(img)\n",
    "    plt.pause(0.05)\n",
    "    input()\n",
    "    clear_output()\n",
    "\n",
    "plt.show()"
   ]
  },
  {
   "cell_type": "markdown",
   "metadata": {},
   "source": [
    "## Preprocess"
   ]
  },
  {
   "cell_type": "code",
   "execution_count": null,
   "metadata": {},
   "outputs": [],
   "source": [
    "from sklearn.model_selection import train_test_split"
   ]
  },
  {
   "cell_type": "code",
   "execution_count": null,
   "metadata": {},
   "outputs": [],
   "source": [
    "labs_to_ints= {\n",
    "    'empty': 0,\n",
    "    'dk blue': 1,\n",
    "    'dk green': 2,\n",
    "    'dk purple': 3,\n",
    "    'lt blue': 4,\n",
    "    'lt green': 5,\n",
    "    'lt purple': 6,\n",
    "    'orange': 7,\n",
    "    'red': 8,\n",
    "    'yellow': 9\n",
    "}\n",
    "\n",
    "ints_to_labs = {v: k for k, v in labs_to_ints.items()}"
   ]
  },
  {
   "cell_type": "code",
   "execution_count": null,
   "metadata": {},
   "outputs": [],
   "source": [
    "label_ints = np.array([labs_to_ints[x] for x in labels])"
   ]
  },
  {
   "cell_type": "code",
   "execution_count": null,
   "metadata": {},
   "outputs": [],
   "source": [
    "X_train, X_val, y_train, y_val = train_test_split(\n",
    "    balls, label_ints, test_size=0.33, random_state=42)"
   ]
  },
  {
   "cell_type": "markdown",
   "metadata": {},
   "source": [
    "## Build the DNN"
   ]
  },
  {
   "cell_type": "code",
   "execution_count": null,
   "metadata": {},
   "outputs": [],
   "source": [
    "import tensorflow as tf\n",
    "\n",
    "n_inputs = 11 * 11 * 3\n",
    "n_hidden1 = 150\n",
    "n_hidden2 = 150\n",
    "n_outputs = 10"
   ]
  },
  {
   "cell_type": "code",
   "execution_count": null,
   "metadata": {},
   "outputs": [],
   "source": [
    "X = tf.placeholder(tf.float32, shape=(None, n_inputs), name=\"X\")\n",
    "y = tf.placeholder(tf.int64, shape=(None), name=\"y\")"
   ]
  },
  {
   "cell_type": "code",
   "execution_count": null,
   "metadata": {},
   "outputs": [],
   "source": [
    "with tf.name_scope(\"dnn\"):\n",
    "    hidden1 = tf.layers.dense(X, n_hidden1, name=\"hidden1\",\n",
    "                              activation=tf.nn.relu)\n",
    "    hidden2 = tf.layers.dense(hidden1, n_hidden2, name=\"hidden2\",\n",
    "                              activation=tf.nn.relu)\n",
    "    logits = tf.layers.dense(hidden2, n_outputs, name=\"outputs\")"
   ]
  },
  {
   "cell_type": "code",
   "execution_count": null,
   "metadata": {},
   "outputs": [],
   "source": [
    "with tf.name_scope(\"loss\"):\n",
    "    xentropy = tf.nn.sparse_softmax_cross_entropy_with_logits(\n",
    "        labels=y, logits=logits\n",
    "    )\n",
    "    loss = tf.reduce_mean(xentropy, name=\"loss\")"
   ]
  },
  {
   "cell_type": "code",
   "execution_count": null,
   "metadata": {},
   "outputs": [],
   "source": [
    "learning_rate = 0.01\n",
    "\n",
    "with tf.name_scope(\"train\"):\n",
    "    optimizer = tf.train.GradientDescentOptimizer(learning_rate)\n",
    "    training_op = optimizer.minimize(loss)"
   ]
  },
  {
   "cell_type": "code",
   "execution_count": null,
   "metadata": {},
   "outputs": [],
   "source": [
    "with tf.name_scope(\"eval\"):\n",
    "    correct = tf.nn.in_top_k(logits, y, 1)\n",
    "    accuracy = tf.reduce_mean(tf.cast(correct, tf.float32))"
   ]
  },
  {
   "cell_type": "code",
   "execution_count": null,
   "metadata": {},
   "outputs": [],
   "source": [
    "init = tf.global_variables_initializer()\n",
    "saver = tf.train.Saver()"
   ]
  },
  {
   "cell_type": "code",
   "execution_count": null,
   "metadata": {
    "scrolled": true
   },
   "outputs": [],
   "source": [
    "# train\n",
    "n_epochs = 100\n",
    "batch_size = 50\n",
    "\n",
    "with tf.Session() as sess:\n",
    "    init.run()\n",
    "    for epoch in range(n_epochs):\n",
    "        batch_i = 0\n",
    "        for iteration in range(X_train.shape[0] // batch_size):\n",
    "            X_batch = X_train[batch_i:batch_i+batch_size]\n",
    "            y_batch = y_train[batch_i:batch_i+batch_size]\n",
    "            batch_i += batch_size\n",
    "            sess.run(training_op, feed_dict={X: X_batch, y: y_batch})\n",
    "        acc_train = accuracy.eval(feed_dict={X: X_batch, y: y_batch})\n",
    "        acc_val = accuracy.eval(feed_dict={X: X_val, y: y_val})\n",
    "        print(epoch, \"Train accuracy\", acc_train, \"Val accuracy\", acc_val)\n",
    "        \n",
    "    save_path = saver.save(sess, \"my_model_final.ckpt\")"
   ]
  },
  {
   "cell_type": "code",
   "execution_count": null,
   "metadata": {},
   "outputs": [],
   "source": [
    "# predict\n",
    "idx = random.randint(0, len(balls))\n",
    "ball = balls[idx]\n",
    "X_new_scaled = ball.reshape(1, ball.shape[0])\n",
    "\n",
    "with tf.Session() as sess:\n",
    "    saver.restore(sess, \"my_model_final.ckpt\")\n",
    "    Z = logits.eval(feed_dict={X: X_new_scaled})\n",
    "    y_pred = np.argmax(Z, axis=1)\n",
    "    \n",
    "print(idx, '\\n'\n",
    "    'predicted: ', label_set[y_pred[0]], '\\n',\n",
    "    '   actual: ', labels[idx], sep='')\n",
    "plt.imshow(balls[idx].reshape(11, 11, 3));"
   ]
  },
  {
   "cell_type": "code",
   "execution_count": null,
   "metadata": {},
   "outputs": [],
   "source": [
    "# predict from image\n",
    "img_paths = [x for x in Path('img/config_3').iterdir()]\n",
    "image = load_image(str(img_paths[3]))\n",
    "plt.imshow(image);"
   ]
  },
  {
   "cell_type": "code",
   "execution_count": null,
   "metadata": {},
   "outputs": [],
   "source": [
    "brd_pts = detect_board(image, plot=False)\n",
    "image = perspective_fix(image, brd_pts)\n",
    "plt.imshow(image);"
   ]
  },
  {
   "cell_type": "code",
   "execution_count": null,
   "metadata": {},
   "outputs": [],
   "source": [
    "slots = get_balls(image)\n",
    "\n",
    "with tf.Session() as sess:\n",
    "    saver.restore(sess, \"my_model_final.ckpt\")\n",
    "    Z = logits.eval(feed_dict={X: slots})\n",
    "    y_pred = np.argmax(Z, axis=1)\n",
    "    \n",
    "np.array([ints_to_labs[x] for x in y_pred]).reshape(9, 9)"
   ]
  },
  {
   "cell_type": "markdown",
   "metadata": {},
   "source": [
    "## Exploratory Code"
   ]
  },
  {
   "cell_type": "code",
   "execution_count": null,
   "metadata": {},
   "outputs": [],
   "source": [
    "# display results\n",
    "fig, axes = plt.subplots(nrows=len(edges)+1, ncols=1, figsize=(10, 10),\n",
    "                         sharex=True, sharey=True)\n",
    "\n",
    "axes[0].imshow(image, cmap=plt.cm.gray)\n",
    "axes[0].set_title('original image', fontsize=15)\n",
    "\n",
    "i = 0\n",
    "for ax, edge in zip(axes[1:], edges):\n",
    "    i += 1\n",
    "    ax.imshow(edge, cmap=plt.cm.gray)\n",
    "    ax.set_title(f'Canny filter, $\\sigma={i}$', fontsize=15)\n",
    "\n",
    "# fig.tight_layout()\n",
    "\n",
    "plt.show();"
   ]
  },
  {
   "cell_type": "code",
   "execution_count": null,
   "metadata": {
    "scrolled": true
   },
   "outputs": [],
   "source": [
    "import numpy as np\n",
    "import matplotlib.pyplot as plt\n",
    "\n",
    "from skimage.filters import roberts, sobel, scharr, prewitt\n",
    "\n",
    "\n",
    "edge_roberts = roberts(image)\n",
    "edge_sobel = sobel(image)\n",
    "\n",
    "fig, ax = plt.subplots(ncols=2, sharex=True, sharey=True,\n",
    "                       figsize=(8, 4))\n",
    "\n",
    "ax[0].imshow(edge_roberts, cmap=plt.cm.gray)\n",
    "ax[0].set_title('Roberts Edge Detection')\n",
    "\n",
    "ax[1].imshow(edge_sobel, cmap=plt.cm.gray)\n",
    "ax[1].set_title('Sobel Edge Detection')\n",
    "\n",
    "plt.tight_layout()\n",
    "plt.show()"
   ]
  },
  {
   "cell_type": "code",
   "execution_count": null,
   "metadata": {},
   "outputs": [],
   "source": [
    "import matplotlib.pyplot as plt\n",
    "from skimage.filters import threshold_otsu\n",
    "\n",
    "\n",
    "image = get_image(grayscale_img=True)\n",
    "thresh = threshold_otsu(image)\n",
    "binary = image > thresh\n",
    "\n",
    "fig, axes = plt.subplots(ncols=2, figsize=(8, 2.5))\n",
    "\n",
    "axes[0].imshow(image, cmap=plt.cm.gray)\n",
    "axes[0].set_title('Original')\n",
    "\n",
    "axes[1].imshow(binary, cmap=plt.cm.gray)\n",
    "axes[1].set_title('Thresholded')\n",
    "\n",
    "plt.show()"
   ]
  },
  {
   "cell_type": "code",
   "execution_count": null,
   "metadata": {
    "scrolled": true
   },
   "outputs": [],
   "source": [
    "import numpy as np\n",
    "\n",
    "from skimage.transform import hough_line, hough_line_peaks\n",
    "from skimage.feature import canny\n",
    "from skimage import data\n",
    "\n",
    "import matplotlib.pyplot as plt\n",
    "from matplotlib import cm\n",
    "\n",
    "\n",
    "\n",
    "# Generating figure 1\n",
    "fig, axes = plt.subplots(1, 2, figsize=(15, 6))\n",
    "ax = axes.ravel()\n",
    "\n",
    "ax[0].imshow(image, cmap=cm.gray)\n",
    "ax[0].set_title('Input image')\n",
    "ax[0].set_axis_off()\n",
    "\n",
    "ax[1].imshow(image, cmap=cm.gray)\n",
    "for _, angle, dist in zip(*hough_line_peaks(h, theta, d)):\n",
    "    y0 = (dist - 0 * np.cos(angle)) / np.sin(angle)\n",
    "    y1 = (dist - image.shape[1] * np.cos(angle)) / np.sin(angle)\n",
    "    ax[1].plot((0, image.shape[1]), (y0, y1), '-r')\n",
    "ax[1].set_xlim((0, image.shape[1]))\n",
    "ax[1].set_ylim((image.shape[0], 0))\n",
    "ax[1].set_axis_off()\n",
    "ax[1].set_title('Detected lines')\n",
    "\n",
    "plt.tight_layout()\n",
    "plt.show();"
   ]
  },
  {
   "cell_type": "code",
   "execution_count": null,
   "metadata": {},
   "outputs": [],
   "source": [
    "fig, ax = plt.subplots(figsize=(15, 6))\n",
    "\n",
    "ax.imshow(image, cmap=cm.gray)\n",
    "ax.plot([t[0] for t in corners], \n",
    "        [t[1] for t in corners],\n",
    "        '.r')\n",
    "plt.show();"
   ]
  },
  {
   "cell_type": "code",
   "execution_count": null,
   "metadata": {},
   "outputs": [],
   "source": [
    "import math\n",
    "\n",
    "def clockwiseangle_and_distance(point, refvec= [0, 1]):\n",
    "    # Vector between point and the origin: v = p - o\n",
    "    vector = [point[0]-origin[0], point[1]-origin[1]]\n",
    "    # Length of vector: ||v||\n",
    "    lenvector = math.hypot(vector[0], vector[1])\n",
    "    # If length is zero there is no angle\n",
    "    if lenvector == 0:\n",
    "        return -math.pi, 0\n",
    "    # Normalize vector: v/||v||\n",
    "    normalized = [vector[0]/lenvector, vector[1]/lenvector]\n",
    "    dotprod  = normalized[0]*refvec[0] + normalized[1]*refvec[1]     # x1*x2 + y1*y2\n",
    "    diffprod = refvec[1]*normalized[0] - refvec[0]*normalized[1]     # x1*y2 - y1*x2\n",
    "    angle = math.atan2(diffprod, dotprod)\n",
    "    # Negative angles represent counter-clockwise angles so we need to subtract them \n",
    "    # from 2*pi (360 degrees)\n",
    "    if angle < 0:\n",
    "        return 2*math.pi+angle, lenvector\n",
    "    # I return first the angle because that's the primary sorting criterium\n",
    "    # but if two vectors have the same angle then the shorter distance should come first.\n",
    "    return angle, lenvector"
   ]
  },
  {
   "cell_type": "code",
   "execution_count": null,
   "metadata": {},
   "outputs": [],
   "source": [
    "origin = list(np.array(corners).mean(axis=0))\n",
    "sorted(corners, key=clockwiseangle_and_distance)"
   ]
  },
  {
   "cell_type": "code",
   "execution_count": null,
   "metadata": {},
   "outputs": [],
   "source": [
    "from skimage import transform as tf\n",
    "\n",
    "# top left, bottom left, bottom right, top right\n",
    "src = np.array([[0, 0], [0, 500], [500, 500], [500, 0]])\n",
    "# TODO: automate the identification of these corners:\n",
    "dst = np.array(corners)\n",
    "\n",
    "tform3 = tf.ProjectiveTransform()\n",
    "tform3.estimate(src, dst)\n",
    "warped = tf.warp(image, tform3, output_shape=(500, 500))\n",
    "\n",
    "fig, ax = plt.subplots(nrows=2, figsize=(10, 10))\n",
    "\n",
    "ax[0].imshow(image, cmap=plt.cm.gray)\n",
    "ax[0].plot(dst[:, 0], dst[:, 1], '.r')\n",
    "ax[1].imshow(warped, cmap=plt.cm.gray)\n",
    "\n",
    "plt.tight_layout()\n",
    "\n",
    "plt.show()"
   ]
  },
  {
   "cell_type": "markdown",
   "metadata": {},
   "source": [
    "## Using Contours"
   ]
  },
  {
   "cell_type": "code",
   "execution_count": null,
   "metadata": {},
   "outputs": [],
   "source": [
    "import numpy as np\n",
    "import matplotlib.pyplot as plt\n",
    "\n",
    "from skimage import measure\n",
    "from skimage.filters import threshold_otsu\n",
    "\n",
    "\n",
    "def bbox_area(points):\n",
    "    \"\"\"X: 2D array\"\"\"\n",
    "    if len(points.shape) != 2 or points.shape[1] != 2:\n",
    "        raise ValueError(\n",
    "            f\"Points must be a (n,2), array but it has shape {points.shape}\"\n",
    "        )\n",
    "    if points.shape[0] < 1:\n",
    "        raise ValueError(\"Can't compute bounding box for empty coordinates\")\n",
    "    minx, miny = np.min(points, axis=0)\n",
    "    maxx, maxy = np.max(points, axis=0)\n",
    "\n",
    "    return (maxx - minx) * (maxy - miny)\n",
    "\n",
    "image = get_image(grayscale_img=True)\n",
    "\n",
    "thresh = threshold_otsu(image)\n",
    "binary = image > thresh\n",
    "\n",
    "# Find contours at a constant value of 0.1\n",
    "contours = measure.find_contours(binary, 0.1)\n",
    "# Get largest contour\n",
    "contour = max(contours, key=bbox_area)\n",
    "\n",
    "# Display the image and plot largest contour bounding box\n",
    "fig, ax = plt.subplots(figsize=(10,10))\n",
    "ax.imshow(img, interpolation='nearest', cmap=plt.cm.gray)\n",
    "ax.plot(contour[:, 1], contour[:, 0], linewidth=4)\n",
    "\n",
    "plt.show()"
   ]
  },
  {
   "cell_type": "code",
   "execution_count": null,
   "metadata": {},
   "outputs": [],
   "source": [
    "approximate_polygon?"
   ]
  },
  {
   "cell_type": "code",
   "execution_count": null,
   "metadata": {},
   "outputs": [],
   "source": [
    "from skimage.measure import approximate_polygon, subdivide_polygon\n",
    "\n",
    "appr_contour = approximate_polygon(contour, tolerance=20)\n",
    "\n",
    "print(contour.shape, appr_contour.shape)\n",
    "\n",
    "# Display the image and plot largest contour bounding box\n",
    "fig, ax = plt.subplots(figsize=(10,10))\n",
    "ax.imshow(img, interpolation='nearest', cmap=plt.cm.gray)\n",
    "ax.plot(appr_contour[:, 1], appr_contour[:, 0], linewidth=4)\n",
    "\n",
    "plt.show()"
   ]
  },
  {
   "cell_type": "markdown",
   "metadata": {},
   "source": [
    "### Identify Corners"
   ]
  },
  {
   "cell_type": "code",
   "execution_count": null,
   "metadata": {},
   "outputs": [],
   "source": [
    "from pathlib import Path\n",
    "\n",
    "from matplotlib import pyplot as plt\n",
    "\n",
    "from skimage.feature import corner_harris, corner_subpix, corner_peaks\n",
    "\n",
    "image = get_image()"
   ]
  },
  {
   "cell_type": "code",
   "execution_count": null,
   "metadata": {},
   "outputs": [],
   "source": [
    "coords = corner_peaks(corner_harris(image), min_distance=5)\n",
    "coords_subpix = corner_subpix(image, coords, window_size=13)\n",
    "\n",
    "fig, ax = plt.subplots()\n",
    "ax.imshow(image, interpolation='nearest', cmap=plt.cm.gray)\n",
    "# ax.plot(coords[:, 1], coords[:, 0], '.b', markersize=3)\n",
    "ax.plot(coords_subpix[:, 1], coords_subpix[:, 0], '+r', markersize=15)\n",
    "plt.show()"
   ]
  },
  {
   "cell_type": "markdown",
   "metadata": {},
   "source": [
    "## Rectify Board Space\n",
    "\n",
    "https://scikit-image.org/docs/stable/auto_examples/applications/plot_geometric.html#sphx-glr-auto-examples-applications-plot-geometric-py\n",
    "\n",
    "TODO: automate identification of board corners"
   ]
  },
  {
   "cell_type": "code",
   "execution_count": null,
   "metadata": {},
   "outputs": [],
   "source": [
    "from pathlib import Path\n",
    "\n",
    "import math\n",
    "import numpy as np\n",
    "import matplotlib.pyplot as plt\n",
    "\n",
    "from skimage import io\n",
    "from skimage import data\n",
    "from skimage import transform as tf\n",
    "\n",
    "img_paths = [x for x in Path('img').iterdir()]\n",
    "board = io.imread(str(img_paths[0]))\n",
    "\n",
    "fig, ax = plt.subplots(figsize=(8, 8))\n",
    "ax.imshow(board);"
   ]
  },
  {
   "cell_type": "code",
   "execution_count": null,
   "metadata": {},
   "outputs": [],
   "source": [
    "# top left, bottom left, bottom right, top right\n",
    "src = np.array([[0, 0], [0, 500], [500, 500], [500, 0]])\n",
    "# TODO: automate the identification of these corners:\n",
    "dst = np.array([\n",
    "    [1250,   420], [930,  2420],  # x, y left edge\n",
    "    [3590,  2490], [3260,  410],   # x, y right edge\n",
    "])\n",
    "\n",
    "tform3 = tf.ProjectiveTransform()\n",
    "tform3.estimate(src, dst)\n",
    "warped = tf.warp(board, tform3, output_shape=(500, 500))\n",
    "\n",
    "fig, ax = plt.subplots(nrows=2, figsize=(10, 10))\n",
    "\n",
    "ax[0].imshow(board, cmap=plt.cm.gray)\n",
    "ax[0].plot(dst[:, 0], dst[:, 1], '.r')\n",
    "ax[1].imshow(warped, cmap=plt.cm.gray)\n",
    "\n",
    "plt.tight_layout()\n",
    "\n",
    "plt.show()"
   ]
  },
  {
   "cell_type": "markdown",
   "metadata": {},
   "source": [
    "### Resources\n",
    "\n",
    "* https://github.com/EdjeElectronics/TensorFlow-Object-Detection-API-Tutorial-Train-Multiple-Objects-Windows-10\n",
    "* https://github.com/EdjeElectronics/TensorFlow-Object-Detection-on-the-Raspberry-Pi\n",
    "* https://hackernoon.com/building-an-insanely-fast-image-classifier-on-android-with-mobilenets-in-tensorflow-dc3e0c4410d4\n",
    "* http://matpalm.com/blog/counting_bees/\n",
    "* https://www.amazon.com/gp/product/B01ER2SKFS\n",
    "* https://github.com/tensorflow/models/tree/master/research/slim/nets/mobilenet\n",
    "* https://www.reddit.com/r/MachineLearning/comments/8dy6wi/p_live_object_detection_on_raspberry_pi_cpu_with/"
   ]
  }
 ],
 "metadata": {
  "kernelspec": {
   "display_name": "Python 3",
   "language": "python",
   "name": "python3"
  },
  "language_info": {
   "codemirror_mode": {
    "name": "ipython",
    "version": 3
   },
   "file_extension": ".py",
   "mimetype": "text/x-python",
   "name": "python",
   "nbconvert_exporter": "python",
   "pygments_lexer": "ipython3",
   "version": "3.6.4"
  }
 },
 "nbformat": 4,
 "nbformat_minor": 2
}
