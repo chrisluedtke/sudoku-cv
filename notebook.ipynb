{
 "cells": [
  {
   "cell_type": "markdown",
   "metadata": {},
   "source": [
    "## Identify Board Space\n",
    "\n",
    "https://scikit-image.org/docs/stable/auto_examples/features_detection/plot_corner.html#sphx-glr-auto-examples-features-detection-plot-corner-py"
   ]
  },
  {
   "cell_type": "markdown",
   "metadata": {},
   "source": [
    "### Detect Edges"
   ]
  },
  {
   "cell_type": "code",
   "execution_count": null,
   "metadata": {},
   "outputs": [],
   "source": [
    "import itertools\n",
    "from pathlib import Path\n",
    "\n",
    "import matplotlib.pyplot as plt\n",
    "import numpy as np\n",
    "from scipy import ndimage as ndi\n",
    "from skimage import io, feature, morphology\n",
    "from skimage.color import rgb2gray\n",
    "from skimage.feature import canny \n",
    "from skimage.filters import threshold_otsu\n",
    "from skimage.transform import resize, hough_line, hough_line_peaks\n",
    "\n",
    "\n",
    "def load_image(image_path, resize_img=True, grayscale_img=True):\n",
    "    image = io.imread(image_path)\n",
    "    \n",
    "    if resize_img:\n",
    "        image = resize(\n",
    "            image, \n",
    "            (image.shape[0] / 4, image.shape[1] / 4),\n",
    "            anti_aliasing=True\n",
    "        )\n",
    "    \n",
    "    if grayscale_img:\n",
    "        image = rgb2gray(image)\n",
    "    \n",
    "    return image\n",
    "\n",
    "\n",
    "def intersection(L1, L2):\n",
    "    D  = L1[0] * L2[1] - L1[1] * L2[0]\n",
    "    Dx = L1[2] * L2[1] - L1[1] * L2[2]\n",
    "    Dy = L1[0] * L2[2] - L1[2] * L2[0]\n",
    "    if D != 0:\n",
    "        x = Dx / D\n",
    "        y = Dy / D\n",
    "        return x,y\n",
    "    else:\n",
    "        return False\n",
    "\n",
    "\n",
    "def detect_board(board_image):\n",
    "    image = board_image\n",
    "    \n",
    "    binary = image > threshold_otsu(image)  # to black & white\n",
    "    edges = canny(binary)  # get edges\n",
    "    filled = ndi.binary_fill_holes(edges)  # fill shapes\n",
    "\n",
    "    # only keep shapes larger than 1/4 of the image area\n",
    "    cleaned = morphology.remove_small_objects(\n",
    "        filled, image.shape[0] * image.shape[1] / 4 \n",
    "    )\n",
    "\n",
    "    fig, ax = plt.subplots(nrows=4, ncols=1)\n",
    "    ax[0].imshow(binary, cmap=plt.cm.gray)\n",
    "    ax[1].imshow(edges, cmap=plt.cm.gray)\n",
    "    ax[2].imshow(filled, cmap=plt.cm.gray)\n",
    "    ax[3].imshow(cleaned, cmap=plt.cm.gray)\n",
    "    plt.show()\n",
    "    \n",
    "    edge = canny(cleaned)  # get edges of large shape\n",
    "    h, theta, d = hough_line(edge)  # get straight lines\n",
    "    _, angles, dists = hough_line_peaks(h, theta, d)\n",
    "    \n",
    "    lines = []\n",
    "    for angle, C in zip(angles, dists):\n",
    "        # Ax + By = C\n",
    "        A = np.cos(angle)\n",
    "        B = np.sin(angle)\n",
    "        lines.append((A, B, C))\n",
    "\n",
    "    corners = []\n",
    "    for L1, L2 in itertools.combinations(lines, 2):\n",
    "        pt = intersection(L1, L2)\n",
    "        conditions = [\n",
    "             pt[0] > 0, \n",
    "             pt[1] > 0, \n",
    "             pt[0] < image.shape[0],\n",
    "             pt[1] < image.shape[1], \n",
    "        ]\n",
    "        if all(conditions):\n",
    "            corners.append(pt)\n",
    "            \n",
    "    return corners, lines"
   ]
  },
  {
   "cell_type": "code",
   "execution_count": null,
   "metadata": {},
   "outputs": [],
   "source": [
    "_id = 0\n",
    "img_paths = [x for x in Path('img').iterdir()]\n",
    "image = load_image(str(img_paths[_id]))\n",
    "\n",
    "plt.imshow(image, cmap=plt.cm.gray);"
   ]
  },
  {
   "cell_type": "code",
   "execution_count": null,
   "metadata": {},
   "outputs": [],
   "source": [
    "board, lines = detect_board(image)\n",
    "\n",
    "fig, ax = plt.subplots(figsize=(8, 8))\n",
    "ax.imshow(image, cmap=plt.cm.gray)\n",
    "ax.plot([t[0] for t in board], \n",
    "        [t[1] for t in board],\n",
    "        '.r')\n",
    "plt.show();"
   ]
  },
  {
   "cell_type": "markdown",
   "metadata": {},
   "source": [
    "## Exploratory Code"
   ]
  },
  {
   "cell_type": "code",
   "execution_count": null,
   "metadata": {},
   "outputs": [],
   "source": [
    "# Compute the Canny filter for several values of sigma\n",
    "edges = []\n",
    "for sigma in [x/10 for x in range(11)]:\n",
    "    edges.append(feature.canny(image, sigma=sigma))"
   ]
  },
  {
   "cell_type": "code",
   "execution_count": null,
   "metadata": {},
   "outputs": [],
   "source": [
    "# display results\n",
    "fig, axes = plt.subplots(nrows=len(edges)+1, ncols=1, figsize=(10, 10),\n",
    "                         sharex=True, sharey=True)\n",
    "\n",
    "axes[0].imshow(image, cmap=plt.cm.gray)\n",
    "axes[0].set_title('original image', fontsize=15)\n",
    "\n",
    "i = 0\n",
    "for ax, edge in zip(axes[1:], edges):\n",
    "    i += 1\n",
    "    ax.imshow(edge, cmap=plt.cm.gray)\n",
    "    ax.set_title(f'Canny filter, $\\sigma={i}$', fontsize=15)\n",
    "\n",
    "# fig.tight_layout()\n",
    "\n",
    "plt.show();"
   ]
  },
  {
   "cell_type": "code",
   "execution_count": null,
   "metadata": {
    "scrolled": true
   },
   "outputs": [],
   "source": [
    "import numpy as np\n",
    "import matplotlib.pyplot as plt\n",
    "\n",
    "from skimage.filters import roberts, sobel, scharr, prewitt\n",
    "\n",
    "\n",
    "edge_roberts = roberts(image)\n",
    "edge_sobel = sobel(image)\n",
    "\n",
    "fig, ax = plt.subplots(ncols=2, sharex=True, sharey=True,\n",
    "                       figsize=(8, 4))\n",
    "\n",
    "ax[0].imshow(edge_roberts, cmap=plt.cm.gray)\n",
    "ax[0].set_title('Roberts Edge Detection')\n",
    "\n",
    "ax[1].imshow(edge_sobel, cmap=plt.cm.gray)\n",
    "ax[1].set_title('Sobel Edge Detection')\n",
    "\n",
    "plt.tight_layout()\n",
    "plt.show()"
   ]
  },
  {
   "cell_type": "code",
   "execution_count": null,
   "metadata": {},
   "outputs": [],
   "source": [
    "import matplotlib.pyplot as plt\n",
    "from skimage.filters import threshold_otsu\n",
    "\n",
    "\n",
    "image = get_image(grayscale_img=True)\n",
    "thresh = threshold_otsu(image)\n",
    "binary = image > thresh\n",
    "\n",
    "fig, axes = plt.subplots(ncols=2, figsize=(8, 2.5))\n",
    "\n",
    "axes[0].imshow(image, cmap=plt.cm.gray)\n",
    "axes[0].set_title('Original')\n",
    "\n",
    "axes[1].imshow(binary, cmap=plt.cm.gray)\n",
    "axes[1].set_title('Thresholded')\n",
    "\n",
    "plt.show()"
   ]
  },
  {
   "cell_type": "markdown",
   "metadata": {},
   "source": [
    "https://stackoverflow.com/questions/11602259/find-the-smallest-containing-convex-polygon-with-a-given-number-of-points\n",
    "https://www.researchgate.net/publication/226436325_Minimum_area_circumscribing_Polygons"
   ]
  },
  {
   "cell_type": "code",
   "execution_count": null,
   "metadata": {},
   "outputs": [],
   "source": []
  },
  {
   "cell_type": "code",
   "execution_count": null,
   "metadata": {},
   "outputs": [],
   "source": [
    "detect_board()"
   ]
  },
  {
   "cell_type": "code",
   "execution_count": null,
   "metadata": {
    "scrolled": true
   },
   "outputs": [],
   "source": [
    "import numpy as np\n",
    "\n",
    "from skimage.transform import hough_line, hough_line_peaks\n",
    "from skimage.feature import canny\n",
    "from skimage import data\n",
    "\n",
    "import matplotlib.pyplot as plt\n",
    "from matplotlib import cm\n",
    "\n",
    "\n",
    "\n",
    "# Generating figure 1\n",
    "fig, axes = plt.subplots(1, 2, figsize=(15, 6))\n",
    "ax = axes.ravel()\n",
    "\n",
    "ax[0].imshow(image, cmap=cm.gray)\n",
    "ax[0].set_title('Input image')\n",
    "ax[0].set_axis_off()\n",
    "\n",
    "ax[1].imshow(image, cmap=cm.gray)\n",
    "for _, angle, dist in zip(*hough_line_peaks(h, theta, d)):\n",
    "    y0 = (dist - 0 * np.cos(angle)) / np.sin(angle)\n",
    "    y1 = (dist - image.shape[1] * np.cos(angle)) / np.sin(angle)\n",
    "    ax[1].plot((0, image.shape[1]), (y0, y1), '-r')\n",
    "ax[1].set_xlim((0, image.shape[1]))\n",
    "ax[1].set_ylim((image.shape[0], 0))\n",
    "ax[1].set_axis_off()\n",
    "ax[1].set_title('Detected lines')\n",
    "\n",
    "plt.tight_layout()\n",
    "plt.show();"
   ]
  },
  {
   "cell_type": "code",
   "execution_count": null,
   "metadata": {},
   "outputs": [],
   "source": []
  },
  {
   "cell_type": "code",
   "execution_count": null,
   "metadata": {},
   "outputs": [],
   "source": [
    "fig, ax = plt.subplots(figsize=(15, 6))\n",
    "\n",
    "ax.imshow(image, cmap=cm.gray)\n",
    "ax.plot([t[0] for t in corners], \n",
    "        [t[1] for t in corners],\n",
    "        '.r')\n",
    "plt.show();"
   ]
  },
  {
   "cell_type": "code",
   "execution_count": null,
   "metadata": {},
   "outputs": [],
   "source": [
    "corners"
   ]
  },
  {
   "cell_type": "code",
   "execution_count": null,
   "metadata": {},
   "outputs": [],
   "source": [
    "import math\n",
    "\n",
    "def clockwiseangle_and_distance(point, refvec= [0, 1]):\n",
    "    # Vector between point and the origin: v = p - o\n",
    "    vector = [point[0]-origin[0], point[1]-origin[1]]\n",
    "    # Length of vector: ||v||\n",
    "    lenvector = math.hypot(vector[0], vector[1])\n",
    "    # If length is zero there is no angle\n",
    "    if lenvector == 0:\n",
    "        return -math.pi, 0\n",
    "    # Normalize vector: v/||v||\n",
    "    normalized = [vector[0]/lenvector, vector[1]/lenvector]\n",
    "    dotprod  = normalized[0]*refvec[0] + normalized[1]*refvec[1]     # x1*x2 + y1*y2\n",
    "    diffprod = refvec[1]*normalized[0] - refvec[0]*normalized[1]     # x1*y2 - y1*x2\n",
    "    angle = math.atan2(diffprod, dotprod)\n",
    "    # Negative angles represent counter-clockwise angles so we need to subtract them \n",
    "    # from 2*pi (360 degrees)\n",
    "    if angle < 0:\n",
    "        return 2*math.pi+angle, lenvector\n",
    "    # I return first the angle because that's the primary sorting criterium\n",
    "    # but if two vectors have the same angle then the shorter distance should come first.\n",
    "    return angle, lenvector"
   ]
  },
  {
   "cell_type": "code",
   "execution_count": null,
   "metadata": {},
   "outputs": [],
   "source": [
    "origin = list(np.array(corners).mean(axis=0))\n",
    "sorted(corners, key=clockwiseangle_and_distance)"
   ]
  },
  {
   "cell_type": "code",
   "execution_count": null,
   "metadata": {},
   "outputs": [],
   "source": [
    "from skimage import transform as tf\n",
    "\n",
    "# top left, bottom left, bottom right, top right\n",
    "src = np.array([[0, 0], [0, 500], [500, 500], [500, 0]])\n",
    "# TODO: automate the identification of these corners:\n",
    "dst = np.array(corners)\n",
    "\n",
    "tform3 = tf.ProjectiveTransform()\n",
    "tform3.estimate(src, dst)\n",
    "warped = tf.warp(image, tform3, output_shape=(500, 500))\n",
    "\n",
    "fig, ax = plt.subplots(nrows=2, figsize=(10, 10))\n",
    "\n",
    "ax[0].imshow(image, cmap=plt.cm.gray)\n",
    "ax[0].plot(dst[:, 0], dst[:, 1], '.r')\n",
    "ax[1].imshow(warped, cmap=plt.cm.gray)\n",
    "\n",
    "plt.tight_layout()\n",
    "\n",
    "plt.show()"
   ]
  },
  {
   "cell_type": "markdown",
   "metadata": {},
   "source": [
    "## Using Contours"
   ]
  },
  {
   "cell_type": "code",
   "execution_count": null,
   "metadata": {},
   "outputs": [],
   "source": [
    "import numpy as np\n",
    "import matplotlib.pyplot as plt\n",
    "\n",
    "from skimage import measure\n",
    "from skimage.filters import threshold_otsu\n",
    "\n",
    "\n",
    "def bbox_area(points):\n",
    "    \"\"\"X: 2D array\"\"\"\n",
    "    if len(points.shape) != 2 or points.shape[1] != 2:\n",
    "        raise ValueError(\n",
    "            f\"Points must be a (n,2), array but it has shape {points.shape}\"\n",
    "        )\n",
    "    if points.shape[0] < 1:\n",
    "        raise ValueError(\"Can't compute bounding box for empty coordinates\")\n",
    "    minx, miny = np.min(points, axis=0)\n",
    "    maxx, maxy = np.max(points, axis=0)\n",
    "\n",
    "    return (maxx - minx) * (maxy - miny)\n",
    "\n",
    "image = get_image(grayscale_img=True)\n",
    "\n",
    "thresh = threshold_otsu(image)\n",
    "binary = image > thresh\n",
    "\n",
    "# Find contours at a constant value of 0.1\n",
    "contours = measure.find_contours(binary, 0.1)\n",
    "# Get largest contour\n",
    "contour = max(contours, key=bbox_area)\n",
    "\n",
    "# Display the image and plot largest contour bounding box\n",
    "fig, ax = plt.subplots(figsize=(10,10))\n",
    "ax.imshow(img, interpolation='nearest', cmap=plt.cm.gray)\n",
    "ax.plot(contour[:, 1], contour[:, 0], linewidth=4)\n",
    "\n",
    "plt.show()"
   ]
  },
  {
   "cell_type": "code",
   "execution_count": null,
   "metadata": {},
   "outputs": [],
   "source": [
    "approximate_polygon?"
   ]
  },
  {
   "cell_type": "code",
   "execution_count": null,
   "metadata": {},
   "outputs": [],
   "source": [
    "from skimage.measure import approximate_polygon, subdivide_polygon\n",
    "\n",
    "appr_contour = approximate_polygon(contour, tolerance=20)\n",
    "\n",
    "print(contour.shape, appr_contour.shape)\n",
    "\n",
    "# Display the image and plot largest contour bounding box\n",
    "fig, ax = plt.subplots(figsize=(10,10))\n",
    "ax.imshow(img, interpolation='nearest', cmap=plt.cm.gray)\n",
    "ax.plot(appr_contour[:, 1], appr_contour[:, 0], linewidth=4)\n",
    "\n",
    "plt.show()"
   ]
  },
  {
   "cell_type": "markdown",
   "metadata": {},
   "source": [
    "### Identify Corners"
   ]
  },
  {
   "cell_type": "code",
   "execution_count": null,
   "metadata": {},
   "outputs": [],
   "source": [
    "from pathlib import Path\n",
    "\n",
    "from matplotlib import pyplot as plt\n",
    "\n",
    "from skimage.feature import corner_harris, corner_subpix, corner_peaks\n",
    "\n",
    "image = get_image()"
   ]
  },
  {
   "cell_type": "code",
   "execution_count": null,
   "metadata": {},
   "outputs": [],
   "source": [
    "coords = corner_peaks(corner_harris(image), min_distance=5)\n",
    "coords_subpix = corner_subpix(image, coords, window_size=13)\n",
    "\n",
    "fig, ax = plt.subplots()\n",
    "ax.imshow(image, interpolation='nearest', cmap=plt.cm.gray)\n",
    "# ax.plot(coords[:, 1], coords[:, 0], '.b', markersize=3)\n",
    "ax.plot(coords_subpix[:, 1], coords_subpix[:, 0], '+r', markersize=15)\n",
    "plt.show()"
   ]
  },
  {
   "cell_type": "markdown",
   "metadata": {},
   "source": [
    "## Rectify Board Space\n",
    "\n",
    "https://scikit-image.org/docs/stable/auto_examples/applications/plot_geometric.html#sphx-glr-auto-examples-applications-plot-geometric-py\n",
    "\n",
    "TODO: automate identification of board corners"
   ]
  },
  {
   "cell_type": "code",
   "execution_count": null,
   "metadata": {},
   "outputs": [],
   "source": [
    "from pathlib import Path\n",
    "\n",
    "import math\n",
    "import numpy as np\n",
    "import matplotlib.pyplot as plt\n",
    "\n",
    "from skimage import io\n",
    "from skimage import data\n",
    "from skimage import transform as tf\n",
    "\n",
    "img_paths = [x for x in Path('img').iterdir()]\n",
    "board = io.imread(str(img_paths[0]))\n",
    "\n",
    "fig, ax = plt.subplots(figsize=(8, 8))\n",
    "ax.imshow(board);"
   ]
  },
  {
   "cell_type": "code",
   "execution_count": null,
   "metadata": {},
   "outputs": [],
   "source": [
    "# top left, bottom left, bottom right, top right\n",
    "src = np.array([[0, 0], [0, 500], [500, 500], [500, 0]])\n",
    "# TODO: automate the identification of these corners:\n",
    "dst = np.array([\n",
    "    [1250,   420], [930,  2420],  # x, y left edge\n",
    "    [3590,  2490], [3260,  410],   # x, y right edge\n",
    "])\n",
    "\n",
    "tform3 = tf.ProjectiveTransform()\n",
    "tform3.estimate(src, dst)\n",
    "warped = tf.warp(board, tform3, output_shape=(500, 500))\n",
    "\n",
    "fig, ax = plt.subplots(nrows=2, figsize=(10, 10))\n",
    "\n",
    "ax[0].imshow(board, cmap=plt.cm.gray)\n",
    "ax[0].plot(dst[:, 0], dst[:, 1], '.r')\n",
    "ax[1].imshow(warped, cmap=plt.cm.gray)\n",
    "\n",
    "plt.tight_layout()\n",
    "\n",
    "plt.show()"
   ]
  }
 ],
 "metadata": {
  "kernelspec": {
   "display_name": "Python 3",
   "language": "python",
   "name": "python3"
  },
  "language_info": {
   "codemirror_mode": {
    "name": "ipython",
    "version": 3
   },
   "file_extension": ".py",
   "mimetype": "text/x-python",
   "name": "python",
   "nbconvert_exporter": "python",
   "pygments_lexer": "ipython3",
   "version": "3.6.4"
  }
 },
 "nbformat": 4,
 "nbformat_minor": 2
}
